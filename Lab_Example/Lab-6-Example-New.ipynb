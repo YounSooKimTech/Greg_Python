{
 "cells": [
  {
   "cell_type": "markdown",
   "metadata": {},
   "source": [
    "## Gregory M. Eirich\n",
    "## Example \n",
    "## Lab #6"
   ]
  },
  {
   "cell_type": "markdown",
   "metadata": {},
   "source": [
    "# Lab 6 Examples\n",
    "\n",
    "\n",
    "## 1. Run a naive (\"pooled\") OLS regression on the panel data.  Tell we how you expect your Xs to affect your Y and why.   Interpret your results.\n",
    "\n",
    "## 2. Run a first differences regression on the same model in Question 1.  Interpret your results.  Do you draw a different conclusion than in Question 1?  Explain.\n"
   ]
  },
  {
   "cell_type": "code",
   "execution_count": 1,
   "metadata": {},
   "outputs": [
    {
     "name": "stdout",
     "output_type": "stream",
     "text": [
      "Collecting linearmodels\n",
      "\u001b[?25l  Downloading https://files.pythonhosted.org/packages/96/e7/560e51e493b24eff7fe92f664ce72fe6ecbeb2c87405d89ebf9e804714ea/linearmodels-4.24-cp37-cp37m-macosx_10_9_x86_64.whl (1.5MB)\n",
      "\u001b[K    100% |████████████████████████████████| 1.5MB 2.7MB/s ta 0:00:01\n",
      "\u001b[?25hCollecting Cython>=0.29.21 (from linearmodels)\n",
      "\u001b[?25l  Downloading https://files.pythonhosted.org/packages/ad/f8/c04430efe9f91fec6d792d68784858474c703e2ef8ae305e897405f29b2f/Cython-0.29.23-cp37-cp37m-macosx_10_9_x86_64.whl (1.9MB)\n",
      "\u001b[K    100% |████████████████████████████████| 1.9MB 2.2MB/s ta 0:00:01\n",
      "\u001b[?25hCollecting statsmodels>=0.11 (from linearmodels)\n",
      "\u001b[?25l  Downloading https://files.pythonhosted.org/packages/10/26/0fd61f95667e56fd597ecca715dff3623ed1122b6f895ed2b4dfb54afc04/statsmodels-0.12.2.tar.gz (17.5MB)\n",
      "\u001b[K    100% |████████████████████████████████| 17.5MB 2.3MB/s ta 0:00:011\n",
      "\u001b[?25h  Installing build dependencies ... \u001b[?25ldone\n",
      "\u001b[?25h  Getting requirements to build wheel ... \u001b[?25ldone\n",
      "\u001b[?25h    Preparing wheel metadata ... \u001b[?25ldone\n",
      "\u001b[?25hCollecting mypy-extensions>=0.4 (from linearmodels)\n",
      "  Downloading https://files.pythonhosted.org/packages/5c/eb/975c7c080f3223a5cdaff09612f3a5221e4ba534f7039db34c35d95fa6a5/mypy_extensions-0.4.3-py2.py3-none-any.whl\n",
      "Requirement already satisfied: pandas>=0.24 in /Users/gregoryeirich/anaconda3/lib/python3.7/site-packages (from linearmodels) (0.24.2)\n",
      "Requirement already satisfied: scipy>=1.2 in /Users/gregoryeirich/anaconda3/lib/python3.7/site-packages (from linearmodels) (1.2.1)\n",
      "Collecting property-cached>=1.6.3 (from linearmodels)\n",
      "  Downloading https://files.pythonhosted.org/packages/5c/6c/94d8e520b20a2502e508e1c558f338061cf409cbee78fd6a3a5c6ae812bd/property_cached-1.6.4-py2.py3-none-any.whl\n",
      "Collecting pyhdfe>=0.1 (from linearmodels)\n",
      "  Downloading https://files.pythonhosted.org/packages/81/38/a53257196401029dd34c83c0528de22032d7b602e8bbcaa6d560040d42c2/pyhdfe-0.1.0-py3-none-any.whl\n",
      "Requirement already satisfied: numpy>=1.16 in /Users/gregoryeirich/anaconda3/lib/python3.7/site-packages (from linearmodels) (1.16.2)\n",
      "Requirement already satisfied: patsy in /Users/gregoryeirich/anaconda3/lib/python3.7/site-packages (from linearmodels) (0.5.1)\n",
      "Requirement already satisfied: python-dateutil>=2.5.0 in /Users/gregoryeirich/anaconda3/lib/python3.7/site-packages (from pandas>=0.24->linearmodels) (2.8.0)\n",
      "Requirement already satisfied: pytz>=2011k in /Users/gregoryeirich/anaconda3/lib/python3.7/site-packages (from pandas>=0.24->linearmodels) (2018.9)\n",
      "Requirement already satisfied: six in /Users/gregoryeirich/anaconda3/lib/python3.7/site-packages (from patsy->linearmodels) (1.12.0)\n",
      "Building wheels for collected packages: statsmodels\n",
      "  Building wheel for statsmodels (PEP 517) ... \u001b[?25ldone\n",
      "\u001b[?25h  Stored in directory: /Users/gregoryeirich/Library/Caches/pip/wheels/b8/11/b9/55a5302e1fd2b41f3d781d12830dee2a7259f3d61b5d80f93b\n",
      "Successfully built statsmodels\n",
      "Installing collected packages: Cython, statsmodels, mypy-extensions, property-cached, pyhdfe, linearmodels\n",
      "  Found existing installation: Cython 0.29.6\n",
      "    Uninstalling Cython-0.29.6:\n",
      "      Successfully uninstalled Cython-0.29.6\n",
      "  Found existing installation: statsmodels 0.9.0\n",
      "    Uninstalling statsmodels-0.9.0:\n",
      "      Successfully uninstalled statsmodels-0.9.0\n",
      "Successfully installed Cython-0.29.23 linearmodels-4.24 mypy-extensions-0.4.3 property-cached-1.6.4 pyhdfe-0.1.0 statsmodels-0.12.2\n",
      "Note: you may need to restart the kernel to use updated packages.\n"
     ]
    }
   ],
   "source": [
    "pip install linearmodels"
   ]
  },
  {
   "cell_type": "code",
   "execution_count": 2,
   "metadata": {},
   "outputs": [],
   "source": [
    "from __future__ import division\n",
    "import pandas as pd\n",
    "import numpy as np\n",
    "import statsmodels.api as sm\n",
    "import statsmodels.formula.api as smf\n",
    "import os\n",
    "import matplotlib.pyplot as plt\n",
    "import linearmodels as lm\n",
    "\n",
    "from linearmodels import PanelOLS\n",
    "from linearmodels import RandomEffects\n",
    "from linearmodels import FirstDifferenceOLS"
   ]
  },
  {
   "cell_type": "markdown",
   "metadata": {},
   "source": [
    "## Use the GSS Panel in Folder for Lab 6 on Courseworks."
   ]
  },
  {
   "cell_type": "code",
   "execution_count": 5,
   "metadata": {},
   "outputs": [
    {
     "data": {
      "text/html": [
       "<div>\n",
       "<style scoped>\n",
       "    .dataframe tbody tr th:only-of-type {\n",
       "        vertical-align: middle;\n",
       "    }\n",
       "\n",
       "    .dataframe tbody tr th {\n",
       "        vertical-align: top;\n",
       "    }\n",
       "\n",
       "    .dataframe thead th {\n",
       "        text-align: right;\n",
       "    }\n",
       "</style>\n",
       "<table border=\"1\" class=\"dataframe\">\n",
       "  <thead>\n",
       "    <tr style=\"text-align: right;\">\n",
       "      <th></th>\n",
       "      <th>idnum</th>\n",
       "      <th>panelwave</th>\n",
       "      <th>ballot</th>\n",
       "      <th>form</th>\n",
       "      <th>formwt</th>\n",
       "      <th>oversamp</th>\n",
       "      <th>sample</th>\n",
       "      <th>panstat_2</th>\n",
       "      <th>panstat_3</th>\n",
       "      <th>mar1</th>\n",
       "      <th>...</th>\n",
       "      <th>wtpan12</th>\n",
       "      <th>wtpan123</th>\n",
       "      <th>wtpannr12</th>\n",
       "      <th>wtpannr123</th>\n",
       "      <th>xmarsex</th>\n",
       "      <th>xmovie</th>\n",
       "      <th>xnorcsiz</th>\n",
       "      <th>year</th>\n",
       "      <th>yearval</th>\n",
       "      <th>zodiac</th>\n",
       "    </tr>\n",
       "  </thead>\n",
       "  <tbody>\n",
       "    <tr>\n",
       "      <th>0</th>\n",
       "      <td>9</td>\n",
       "      <td>1</td>\n",
       "      <td>3</td>\n",
       "      <td>2</td>\n",
       "      <td>1</td>\n",
       "      <td>1</td>\n",
       "      <td>9</td>\n",
       "      <td>1</td>\n",
       "      <td>1</td>\n",
       "      <td>5.0</td>\n",
       "      <td>...</td>\n",
       "      <td>0.414689</td>\n",
       "      <td>0.487828</td>\n",
       "      <td>0.435503</td>\n",
       "      <td>0.470575</td>\n",
       "      <td>1.0</td>\n",
       "      <td>2.0</td>\n",
       "      <td>1.0</td>\n",
       "      <td>2006.0</td>\n",
       "      <td>NaN</td>\n",
       "      <td>9.0</td>\n",
       "    </tr>\n",
       "    <tr>\n",
       "      <th>1</th>\n",
       "      <td>9</td>\n",
       "      <td>2</td>\n",
       "      <td>3</td>\n",
       "      <td>2</td>\n",
       "      <td>1</td>\n",
       "      <td>1</td>\n",
       "      <td>9</td>\n",
       "      <td>1</td>\n",
       "      <td>1</td>\n",
       "      <td>5.0</td>\n",
       "      <td>...</td>\n",
       "      <td>0.414689</td>\n",
       "      <td>0.487828</td>\n",
       "      <td>0.435503</td>\n",
       "      <td>0.470575</td>\n",
       "      <td>1.0</td>\n",
       "      <td>1.0</td>\n",
       "      <td>1.0</td>\n",
       "      <td>2008.0</td>\n",
       "      <td>NaN</td>\n",
       "      <td>9.0</td>\n",
       "    </tr>\n",
       "    <tr>\n",
       "      <th>2</th>\n",
       "      <td>9</td>\n",
       "      <td>3</td>\n",
       "      <td>3</td>\n",
       "      <td>2</td>\n",
       "      <td>1</td>\n",
       "      <td>1</td>\n",
       "      <td>9</td>\n",
       "      <td>1</td>\n",
       "      <td>1</td>\n",
       "      <td>1.0</td>\n",
       "      <td>...</td>\n",
       "      <td>0.414689</td>\n",
       "      <td>0.487828</td>\n",
       "      <td>0.435503</td>\n",
       "      <td>0.470575</td>\n",
       "      <td>1.0</td>\n",
       "      <td>1.0</td>\n",
       "      <td>1.0</td>\n",
       "      <td>2010.0</td>\n",
       "      <td>NaN</td>\n",
       "      <td>9.0</td>\n",
       "    </tr>\n",
       "    <tr>\n",
       "      <th>3</th>\n",
       "      <td>10</td>\n",
       "      <td>1</td>\n",
       "      <td>1</td>\n",
       "      <td>1</td>\n",
       "      <td>1</td>\n",
       "      <td>1</td>\n",
       "      <td>9</td>\n",
       "      <td>1</td>\n",
       "      <td>1</td>\n",
       "      <td>5.0</td>\n",
       "      <td>...</td>\n",
       "      <td>0.829377</td>\n",
       "      <td>0.858741</td>\n",
       "      <td>0.766632</td>\n",
       "      <td>0.828371</td>\n",
       "      <td>1.0</td>\n",
       "      <td>NaN</td>\n",
       "      <td>1.0</td>\n",
       "      <td>2006.0</td>\n",
       "      <td>NaN</td>\n",
       "      <td>3.0</td>\n",
       "    </tr>\n",
       "    <tr>\n",
       "      <th>4</th>\n",
       "      <td>10</td>\n",
       "      <td>2</td>\n",
       "      <td>1</td>\n",
       "      <td>1</td>\n",
       "      <td>1</td>\n",
       "      <td>1</td>\n",
       "      <td>9</td>\n",
       "      <td>1</td>\n",
       "      <td>1</td>\n",
       "      <td>5.0</td>\n",
       "      <td>...</td>\n",
       "      <td>0.829377</td>\n",
       "      <td>0.858741</td>\n",
       "      <td>0.766632</td>\n",
       "      <td>0.828371</td>\n",
       "      <td>1.0</td>\n",
       "      <td>NaN</td>\n",
       "      <td>1.0</td>\n",
       "      <td>2008.0</td>\n",
       "      <td>NaN</td>\n",
       "      <td>3.0</td>\n",
       "    </tr>\n",
       "  </tbody>\n",
       "</table>\n",
       "<p>5 rows × 628 columns</p>\n",
       "</div>"
      ],
      "text/plain": [
       "   idnum  panelwave  ballot  form  formwt  oversamp  sample  panstat_2  \\\n",
       "0      9          1       3     2       1         1       9          1   \n",
       "1      9          2       3     2       1         1       9          1   \n",
       "2      9          3       3     2       1         1       9          1   \n",
       "3     10          1       1     1       1         1       9          1   \n",
       "4     10          2       1     1       1         1       9          1   \n",
       "\n",
       "   panstat_3  mar1  ...   wtpan12  wtpan123  wtpannr12  wtpannr123  xmarsex  \\\n",
       "0          1   5.0  ...  0.414689  0.487828   0.435503    0.470575      1.0   \n",
       "1          1   5.0  ...  0.414689  0.487828   0.435503    0.470575      1.0   \n",
       "2          1   1.0  ...  0.414689  0.487828   0.435503    0.470575      1.0   \n",
       "3          1   5.0  ...  0.829377  0.858741   0.766632    0.828371      1.0   \n",
       "4          1   5.0  ...  0.829377  0.858741   0.766632    0.828371      1.0   \n",
       "\n",
       "   xmovie  xnorcsiz    year  yearval  zodiac  \n",
       "0     2.0       1.0  2006.0      NaN     9.0  \n",
       "1     1.0       1.0  2008.0      NaN     9.0  \n",
       "2     1.0       1.0  2010.0      NaN     9.0  \n",
       "3     NaN       1.0  2006.0      NaN     3.0  \n",
       "4     NaN       1.0  2008.0      NaN     3.0  \n",
       "\n",
       "[5 rows x 628 columns]"
      ]
     },
     "execution_count": 5,
     "metadata": {},
     "output_type": "execute_result"
    }
   ],
   "source": [
    "os.chdir('/Users/gregoryeirich/Desktop/Desktop/Data Analysis') # change working directory\n",
    "\n",
    "g = pd.read_csv(\"panel-for-R.csv.xls\") ## choose \"panel-for-R.csv\" and more information on variables are here: http://sda.berkeley.edu/sdaweb/analysis/?dataset=gss06panelw3 ##\n",
    "\n",
    "g.head()"
   ]
  },
  {
   "cell_type": "markdown",
   "metadata": {},
   "source": [
    "## We are going to revisit an example earlier in the semester: the relationship between hours worked and salary earned.  There was a positive relationship between hours worked and money earned, but we weren't sure why.   Before we run our regressions, we should log both hours and income."
   ]
  },
  {
   "cell_type": "code",
   "execution_count": 20,
   "metadata": {},
   "outputs": [],
   "source": [
    "g['lnrealrinc'] = np.log(g['realrinc']) \n",
    "g['lnhrs1'] = np.log(g['hrs1']) "
   ]
  },
  {
   "cell_type": "code",
   "execution_count": 21,
   "metadata": {},
   "outputs": [
    {
     "data": {
      "text/html": [
       "<div>\n",
       "<style scoped>\n",
       "    .dataframe tbody tr th:only-of-type {\n",
       "        vertical-align: middle;\n",
       "    }\n",
       "\n",
       "    .dataframe tbody tr th {\n",
       "        vertical-align: top;\n",
       "    }\n",
       "\n",
       "    .dataframe thead th {\n",
       "        text-align: right;\n",
       "    }\n",
       "</style>\n",
       "<table border=\"1\" class=\"dataframe\">\n",
       "  <thead>\n",
       "    <tr style=\"text-align: right;\">\n",
       "      <th></th>\n",
       "      <th>lnrealrinc</th>\n",
       "      <th>lnhrs1</th>\n",
       "    </tr>\n",
       "  </thead>\n",
       "  <tbody>\n",
       "    <tr>\n",
       "      <th>count</th>\n",
       "      <td>2847.000000</td>\n",
       "      <td>2802.000000</td>\n",
       "    </tr>\n",
       "    <tr>\n",
       "      <th>mean</th>\n",
       "      <td>9.592979</td>\n",
       "      <td>3.649706</td>\n",
       "    </tr>\n",
       "    <tr>\n",
       "      <th>std</th>\n",
       "      <td>1.162260</td>\n",
       "      <td>0.479530</td>\n",
       "    </tr>\n",
       "    <tr>\n",
       "      <th>min</th>\n",
       "      <td>5.556828</td>\n",
       "      <td>0.000000</td>\n",
       "    </tr>\n",
       "    <tr>\n",
       "      <th>25%</th>\n",
       "      <td>9.131094</td>\n",
       "      <td>3.637586</td>\n",
       "    </tr>\n",
       "    <tr>\n",
       "      <th>50%</th>\n",
       "      <td>9.824241</td>\n",
       "      <td>3.688879</td>\n",
       "    </tr>\n",
       "    <tr>\n",
       "      <th>75%</th>\n",
       "      <td>10.290534</td>\n",
       "      <td>3.912023</td>\n",
       "    </tr>\n",
       "    <tr>\n",
       "      <th>max</th>\n",
       "      <td>13.081842</td>\n",
       "      <td>4.488636</td>\n",
       "    </tr>\n",
       "  </tbody>\n",
       "</table>\n",
       "</div>"
      ],
      "text/plain": [
       "        lnrealrinc       lnhrs1\n",
       "count  2847.000000  2802.000000\n",
       "mean      9.592979     3.649706\n",
       "std       1.162260     0.479530\n",
       "min       5.556828     0.000000\n",
       "25%       9.131094     3.637586\n",
       "50%       9.824241     3.688879\n",
       "75%      10.290534     3.912023\n",
       "max      13.081842     4.488636"
      ]
     },
     "execution_count": 21,
     "metadata": {},
     "output_type": "execute_result"
    }
   ],
   "source": [
    "g[[\"lnrealrinc\", \"lnhrs1\"]].describe()"
   ]
  },
  {
   "cell_type": "markdown",
   "metadata": {},
   "source": [
    "## 1. Run a naive (\"pooled\") OLS regression on the panel data.  Tell we how you expect your Xs to affect your Y and why.   Interpret your results.\n",
    "\n",
    "## The question is how are income and hours worked related?\n",
    "\n",
    "As you can see, in the simple OLS, it appears that for every hour more worked, on average, $614 more in income is earned.  It is quite statistically significant and it explains about 3 percent of the variance in salary earned"
   ]
  },
  {
   "cell_type": "code",
   "execution_count": 6,
   "metadata": {
    "scrolled": true
   },
   "outputs": [
    {
     "name": "stdout",
     "output_type": "stream",
     "text": [
      "                            OLS Regression Results                            \n",
      "==============================================================================\n",
      "Dep. Variable:               realrinc   R-squared:                       0.029\n",
      "Model:                            OLS   Adj. R-squared:                  0.028\n",
      "Method:                 Least Squares   F-statistic:                     71.21\n",
      "Date:                Tue, 18 May 2021   Prob (F-statistic):           5.48e-17\n",
      "Time:                        20:18:50   Log-Likelihood:                -29349.\n",
      "No. Observations:                2397   AIC:                         5.870e+04\n",
      "Df Residuals:                    2395   BIC:                         5.871e+04\n",
      "Df Model:                           1                                         \n",
      "Covariance Type:            nonrobust                                         \n",
      "==============================================================================\n",
      "                 coef    std err          t      P>|t|      [0.025      0.975]\n",
      "------------------------------------------------------------------------------\n",
      "Intercept   2361.4863   3248.606      0.727      0.467   -4008.883    8731.856\n",
      "hrs1         613.9874     72.760      8.439      0.000     471.308     756.667\n",
      "==============================================================================\n",
      "Omnibus:                     3154.134   Durbin-Watson:                   1.528\n",
      "Prob(Omnibus):                  0.000   Jarque-Bera (JB):           415876.751\n",
      "Skew:                           7.490   Prob(JB):                         0.00\n",
      "Kurtosis:                      65.766   Cond. No.                         141.\n",
      "==============================================================================\n",
      "\n",
      "Notes:\n",
      "[1] Standard Errors assume that the covariance matrix of the errors is correctly specified.\n"
     ]
    }
   ],
   "source": [
    "lm_ols = smf.ols(formula = 'realrinc ~ hrs1 ', data = g).fit()\n",
    "print (lm_ols.summary())"
   ]
  },
  {
   "cell_type": "markdown",
   "metadata": {},
   "source": [
    "## What if we run the same model as an elasticity, log-log model?  We regress log hours on log  income.\n",
    "\n",
    "This is also quite statistically significant, where for every 1% increase in hours worked, on average, we see a .83% increase in money.  Look at that increase in R-sq, now explaining almost 14% of the variance in log salary."
   ]
  },
  {
   "cell_type": "code",
   "execution_count": 22,
   "metadata": {},
   "outputs": [
    {
     "name": "stdout",
     "output_type": "stream",
     "text": [
      "                            OLS Regression Results                            \n",
      "==============================================================================\n",
      "Dep. Variable:             lnrealrinc   R-squared:                       0.137\n",
      "Model:                            OLS   Adj. R-squared:                  0.137\n",
      "Method:                 Least Squares   F-statistic:                     380.5\n",
      "Date:                Tue, 18 May 2021   Prob (F-statistic):           9.31e-79\n",
      "Time:                        20:42:08   Log-Likelihood:                -3339.7\n",
      "No. Observations:                2397   AIC:                             6683.\n",
      "Df Residuals:                    2395   BIC:                             6695.\n",
      "Df Model:                           1                                         \n",
      "Covariance Type:            nonrobust                                         \n",
      "==============================================================================\n",
      "                 coef    std err          t      P>|t|      [0.025      0.975]\n",
      "------------------------------------------------------------------------------\n",
      "Intercept      6.6546      0.159     41.859      0.000       6.343       6.966\n",
      "lnhrs1         0.8389      0.043     19.505      0.000       0.755       0.923\n",
      "==============================================================================\n",
      "Omnibus:                      305.935   Durbin-Watson:                   1.357\n",
      "Prob(Omnibus):                  0.000   Jarque-Bera (JB):             1476.684\n",
      "Skew:                          -0.515   Prob(JB):                         0.00\n",
      "Kurtosis:                       6.705   Cond. No.                         31.6\n",
      "==============================================================================\n",
      "\n",
      "Notes:\n",
      "[1] Standard Errors assume that the covariance matrix of the errors is correctly specified.\n"
     ]
    }
   ],
   "source": [
    "lm_ols2 = smf.ols(formula = 'lnrealrinc ~ lnhrs1 ', data = g).fit()\n",
    "print (lm_ols2.summary())"
   ]
  },
  {
   "cell_type": "markdown",
   "metadata": {},
   "source": [
    "## 2. Run a first differences regression on the same model in Question 1.  Interpret your results.  Do you draw a different conclusion than in Question 1?  Explain.\n",
    "\n",
    "Let's start by regressing changes in hours worked to changes in salary.  We see that there appears to be no association between changes in hours and changes in salary (B = essentially zero).  The t-statistic is not statistical significant."
   ]
  },
  {
   "cell_type": "code",
   "execution_count": 7,
   "metadata": {},
   "outputs": [
    {
     "name": "stdout",
     "output_type": "stream",
     "text": [
      "                     FirstDifferenceOLS Estimation Summary                      \n",
      "================================================================================\n",
      "Dep. Variable:               realrinc   R-squared:                     7.907e-06\n",
      "Estimator:         FirstDifferenceOLS   R-squared (Between):             -0.0151\n",
      "No. Observations:                1107   R-squared (Within):              -0.0002\n",
      "Date:                Tue, May 18 2021   R-squared (Overall):             -0.0122\n",
      "Time:                        20:19:21   Log-likelihood                -1.391e+04\n",
      "Cov. Estimator:             Clustered                                           \n",
      "                                        F-statistic:                      0.0087\n",
      "Entities:                        1226   P-value                           0.9255\n",
      "Avg Obs:                       1.9551   Distribution:                  F(1,1106)\n",
      "Min Obs:                       1.0000                                           \n",
      "Max Obs:                       3.0000   F-statistic (robust):             0.0065\n",
      "                                        P-value                           0.9358\n",
      "Time periods:                       3   Distribution:                  F(1,1106)\n",
      "Avg Obs:                       799.00                                           \n",
      "Min Obs:                       635.00                                           \n",
      "Max Obs:                       981.00                                           \n",
      "                                                                                \n",
      "                             Parameter Estimates                              \n",
      "==============================================================================\n",
      "            Parameter  Std. Err.     T-stat    P-value    Lower CI    Upper CI\n",
      "------------------------------------------------------------------------------\n",
      "hrs1          -15.544     192.95    -0.0806     0.9358     -394.13      363.04\n",
      "==============================================================================\n"
     ]
    },
    {
     "name": "stderr",
     "output_type": "stream",
     "text": [
      "/Users/gregoryeirich/anaconda3/lib/python3.7/site-packages/linearmodels/shared/exceptions.py:35: MissingValueWarning: \n",
      "Inputs contain missing values. Dropping rows with missing observations.\n",
      "  warnings.warn(missing_value_warning_msg, MissingValueWarning)\n"
     ]
    }
   ],
   "source": [
    "g = g.set_index(['idnum', 'panelwave'])\n",
    "lm_fd = FirstDifferenceOLS.from_formula('realrinc ~ hrs1', g)\n",
    "res_fd = lm_fd.fit(cov_type='clustered', cluster_entity=True)\n",
    "print(res_fd)"
   ]
  },
  {
   "cell_type": "markdown",
   "metadata": {},
   "source": [
    "## How about a first difference model with logged income and logged hours?\n",
    "\n",
    "Now, the relationship between changes in log hours and log income is now marginally statistically signicant (p<.1) and it is in the expected direction: for each 1% change in hours, there is a 0.146% change in salary.  Also, the (within) R-sq shows that these changes explain about 1.38% in the variance in logged salary."
   ]
  },
  {
   "cell_type": "code",
   "execution_count": 23,
   "metadata": {},
   "outputs": [
    {
     "name": "stdout",
     "output_type": "stream",
     "text": [
      "                     FirstDifferenceOLS Estimation Summary                      \n",
      "================================================================================\n",
      "Dep. Variable:             lnrealrinc   R-squared:                        0.0054\n",
      "Estimator:         FirstDifferenceOLS   R-squared (Between):              0.1068\n",
      "No. Observations:                1107   R-squared (Within):               0.0138\n",
      "Date:                Tue, May 18 2021   R-squared (Overall):              0.1065\n",
      "Time:                        20:43:12   Log-likelihood                   -1327.1\n",
      "Cov. Estimator:             Clustered                                           \n",
      "                                        F-statistic:                      5.9790\n",
      "Entities:                        1226   P-value                           0.0146\n",
      "Avg Obs:                       1.9551   Distribution:                  F(1,1106)\n",
      "Min Obs:                       1.0000                                           \n",
      "Max Obs:                       3.0000   F-statistic (robust):             3.8067\n",
      "                                        P-value                           0.0513\n",
      "Time periods:                       3   Distribution:                  F(1,1106)\n",
      "Avg Obs:                       799.00                                           \n",
      "Min Obs:                       635.00                                           \n",
      "Max Obs:                       981.00                                           \n",
      "                                                                                \n",
      "                             Parameter Estimates                              \n",
      "==============================================================================\n",
      "            Parameter  Std. Err.     T-stat    P-value    Lower CI    Upper CI\n",
      "------------------------------------------------------------------------------\n",
      "lnhrs1         0.1463     0.0750     1.9511     0.0513     -0.0008      0.2934\n",
      "==============================================================================\n"
     ]
    },
    {
     "name": "stderr",
     "output_type": "stream",
     "text": [
      "/Users/gregoryeirich/anaconda3/lib/python3.7/site-packages/linearmodels/shared/exceptions.py:35: MissingValueWarning: \n",
      "Inputs contain missing values. Dropping rows with missing observations.\n",
      "  warnings.warn(missing_value_warning_msg, MissingValueWarning)\n"
     ]
    }
   ],
   "source": [
    "lm_fd2 = FirstDifferenceOLS.from_formula('lnrealrinc ~ lnhrs1', g)\n",
    "res_fd2 = lm_fd2.fit(cov_type='clustered', cluster_entity=True)\n",
    "print(res_fd2)"
   ]
  }
 ],
 "metadata": {
  "kernelspec": {
   "display_name": "Python 3",
   "language": "python",
   "name": "python3"
  },
  "language_info": {
   "codemirror_mode": {
    "name": "ipython",
    "version": 3
   },
   "file_extension": ".py",
   "mimetype": "text/x-python",
   "name": "python",
   "nbconvert_exporter": "python",
   "pygments_lexer": "ipython3",
   "version": "3.7.3"
  }
 },
 "nbformat": 4,
 "nbformat_minor": 1
}
